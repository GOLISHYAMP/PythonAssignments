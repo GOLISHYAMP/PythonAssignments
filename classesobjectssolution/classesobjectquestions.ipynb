{
 "cells": [
  {
   "cell_type": "markdown",
   "metadata": {},
   "source": [
    "# Module: Classes and Objects Assignments\n",
    "## Lesson: Creating and Working with Classes and Objects\n",
    "### Assignment 1: Basic Class and Object Creation\n",
    "\n",
    "Create a class named `Car` with attributes `make`, `model`, and `year`. Create an object of the class and print its attributes.\n",
    "\n",
    "### Assignment 2: Methods in Class\n",
    "\n",
    "Add a method named `start_engine` to the `Car` class that prints a message when the engine starts. Create an object of the class and call the method.\n",
    "\n",
    "### Assignment 3: Class with Constructor\n",
    "\n",
    "Create a class named `Student` with attributes `name` and `age`. Use a constructor to initialize these attributes. Create an object of the class and print its attributes.\n",
    "\n",
    "### Assignment 4: Class with Private Attributes\n",
    "\n",
    "Create a class named `BankAccount` with private attributes `account_number` and `balance`. Add methods to deposit and withdraw money, and to check the balance. Create an object of the class and perform some operations.\n",
    "\n",
    "### Assignment 5: Class Inheritance\n",
    "\n",
    "Create a base class named `Person` with attributes `name` and `age`. Create a derived class named `Employee` that inherits from `Person` and adds an attribute `employee_id`. Create an object of the derived class and print its attributes.\n",
    "\n",
    "### Assignment 6: Method Overriding\n",
    "\n",
    "In the `Employee` class, override the `__str__` method to return a string representation of the object. Create an object of the class and print it.\n",
    "\n",
    "### Assignment 7: Class Composition\n",
    "\n",
    "Create a class named `Address` with attributes `street`, `city`, and `zipcode`. Create a class named `Person` that has an `Address` object as an attribute. Create an object of the `Person` class and print its address.\n",
    "\n",
    "### Assignment 8: Class with Class Variables\n",
    "\n",
    "Create a class named `Counter` with a class variable `count`. Each time an object is created, increment the count. Add a method to get the current count. Create multiple objects and print the count.\n",
    "\n",
    "### Assignment 9: Static Methods\n",
    "\n",
    "Create a class named `MathOperations` with a static method to calculate the square root of a number. Call the static method without creating an object.\n",
    "\n",
    "### Assignment 10: Class with Properties\n",
    "\n",
    "Create a class named `Rectangle` with private attributes `length` and `width`. Use properties to get and set these attributes. Create an object of the class and test the properties.\n",
    "\n",
    "### Assignment 11: Abstract Base Class\n",
    "\n",
    "Create an abstract base class named `Shape` with an abstract method `area`. Create derived classes `Circle` and `Square` that implement the `area` method. Create objects of the derived classes and call the `area` method.\n",
    "\n",
    "### Assignment 12: Operator Overloading\n",
    "\n",
    "Create a class named `Vector` with attributes `x` and `y`. Overload the `+` operator to add two `Vector` objects. Create objects of the class and test the operator overloading.\n",
    "\n",
    "### Assignment 13: Class with Custom Exception\n",
    "\n",
    "Create a custom exception named `InsufficientBalanceError`. In the `BankAccount` class, raise this exception when a withdrawal amount is greater than the balance. Handle the exception and print an appropriate message.\n",
    "\n",
    "### Assignment 14: Class with Context Manager\n",
    "\n",
    "Create a class named `FileManager` that implements the context manager protocol to open and close a file. Use this class to read the contents of a file.\n",
    "\n",
    "### Assignment 15: Chaining Methods\n",
    "\n",
    "Create a class named `Calculator` with methods to add, subtract, multiply, and divide. Each method should return the object itself to allow method chaining. Create an object and chain multiple method calls."
   ]
  },
  {
   "cell_type": "markdown",
   "id": "8d57835f",
   "metadata": {},
   "source": [
    "### Assignment 1: Basic Class and Object Creation\n",
    "\n",
    "Create a class named `Car` with attributes `make`, `model`, and `year`. Create an object of the class and print its attributes."
   ]
  },
  {
   "cell_type": "code",
   "execution_count": 2,
   "metadata": {},
   "outputs": [
    {
     "name": "stdout",
     "output_type": "stream",
     "text": [
      "car, BMW, 2025\n"
     ]
    }
   ],
   "source": [
    "class Vehicle:\n",
    "    def __init__(self, make, model, year):\n",
    "        self.make = make\n",
    "        self.model = model\n",
    "        self.year = year\n",
    "    def __str__(self):\n",
    "        return f'{self.make}, {self.model}, {self.year}'\n",
    "\n",
    "vehicle = Vehicle('car', 'BMW', 2025)\n",
    "print(vehicle)"
   ]
  },
  {
   "cell_type": "markdown",
   "id": "b603f157",
   "metadata": {},
   "source": [
    "### Assignment 2: Methods in Class\n",
    "\n",
    "Add a method named `start_engine` to the `Car` class that prints a message when the engine starts. Create an object of the class and call the method."
   ]
  },
  {
   "cell_type": "code",
   "execution_count": 3,
   "id": "c440100b",
   "metadata": {},
   "outputs": [
    {
     "name": "stdout",
     "output_type": "stream",
     "text": [
      "Engine starting\n"
     ]
    }
   ],
   "source": [
    "class Vehicle:\n",
    "    def __init__(self, make, model, year):\n",
    "        self.make = make\n",
    "        self.model = model\n",
    "        self.year = year\n",
    "    def __str__(self):\n",
    "        return f'{self.make}, {self.model}, {self.year}'\n",
    "    def start_engine(self):\n",
    "        print('Engine starting')\n",
    "    \n",
    "vehicle = Vehicle('car', 'BMW', 2025)\n",
    "vehicle.start_engine()"
   ]
  },
  {
   "cell_type": "markdown",
   "id": "0f65ccab",
   "metadata": {},
   "source": [
    "### Assignment 3: Class with Constructor\n",
    "\n",
    "Create a class named `Student` with attributes `name` and `age`. Use a constructor to initialize these attributes. Create an object of the class and print its attributes."
   ]
  },
  {
   "cell_type": "code",
   "execution_count": 6,
   "id": "54f976f1",
   "metadata": {},
   "outputs": [
    {
     "name": "stdout",
     "output_type": "stream",
     "text": [
      "Shyam and 31\n"
     ]
    }
   ],
   "source": [
    "class Student:\n",
    "    def __init__(self, name, age):\n",
    "        self.name = name\n",
    "        self.age = age\n",
    "    def __str__(self):\n",
    "        return f'{self.name} and {self.age}'\n",
    "std = Student('Shyam', 31)\n",
    "print(std)"
   ]
  },
  {
   "cell_type": "markdown",
   "id": "df344deb",
   "metadata": {},
   "source": [
    "### Assignment 4: Class with Private Attributes\n",
    "\n",
    "Create a class named `BankAccount` with private attributes `account_number` and `balance`. Add methods to deposit and withdraw money, and to check the balance. Create an object of the class and perform some operations."
   ]
  },
  {
   "cell_type": "code",
   "execution_count": 8,
   "id": "95f0ce77",
   "metadata": {},
   "outputs": [
    {
     "name": "stdout",
     "output_type": "stream",
     "text": [
      "Account Successfully created for 1234\n",
      "Balance amount : 1500\n",
      "Insufficient balance\n",
      "Balance amount : 0\n"
     ]
    }
   ],
   "source": [
    "class BankAccount:\n",
    "    def __init__(self, acc_no, bal):\n",
    "        self.__account_number = acc_no\n",
    "        self.__balance = bal\n",
    "    def __str__(self):\n",
    "        return f'Account Successfully created for {self.__account_number}'\n",
    "    def deposit(self,amount):\n",
    "        self.__balance += amount\n",
    "        return f'Balance amount : {self.__balance}'\n",
    "    def withdraw(self, amount):\n",
    "        if self.__balance < amount:\n",
    "            return f'Insufficient balance'\n",
    "        else:\n",
    "            self.__balance -= amount\n",
    "            return f'Balance amount : {self.__balance}'\n",
    "\n",
    "BA = BankAccount(1234, 1000)\n",
    "print(BA)\n",
    "print(BA.deposit(500))\n",
    "print(BA.withdraw(3000))\n",
    "print(BA.withdraw(1500))"
   ]
  },
  {
   "cell_type": "markdown",
   "id": "2ffb07f8",
   "metadata": {},
   "source": [
    "### Assignment 5: Class Inheritance\n",
    "\n",
    "Create a base class named `Person` with attributes `name` and `age`. Create a derived class named `Employee` that inherits from `Person` and adds an attribute `employee_id`. Create an object of the derived class and print its attributes."
   ]
  },
  {
   "cell_type": "code",
   "execution_count": 10,
   "id": "2b0a8b6b",
   "metadata": {},
   "outputs": [
    {
     "name": "stdout",
     "output_type": "stream",
     "text": [
      "Shyam, 31 and 1234\n"
     ]
    }
   ],
   "source": [
    "class Person:\n",
    "    def __init__(self, name, age):\n",
    "        self.name = name\n",
    "        self.age = age\n",
    "    def __str__(self):\n",
    "        return f'{self.name} and age {self.age}'\n",
    "\n",
    "class Employee(Person):\n",
    "    def __init__(self, name,age, employee_id):\n",
    "        super().__init__(name, age)\n",
    "        self.employee_id = employee_id\n",
    "    def __str__(self):\n",
    "        return f'{self.name}, {self.age} and {self.employee_id}'\n",
    "    \n",
    "emp = Employee('Shyam', 31, 1234)\n",
    "print(emp)"
   ]
  },
  {
   "cell_type": "markdown",
   "id": "22e5d50a",
   "metadata": {},
   "source": [
    "### Assignment 6: Method Overriding\n",
    "\n",
    "In the `Employee` class, override the `__str__` method to return a string representation of the object. Create an object of the class and print it."
   ]
  },
  {
   "cell_type": "code",
   "execution_count": 11,
   "id": "44525e58",
   "metadata": {},
   "outputs": [
    {
     "name": "stdout",
     "output_type": "stream",
     "text": [
      "Shyam, 31 and 1234\n"
     ]
    }
   ],
   "source": [
    "class Person:\n",
    "    def __init__(self, name, age):\n",
    "        self.name = name\n",
    "        self.age = age\n",
    "    def __str__(self):\n",
    "        return f'{self.name} and age {self.age}'\n",
    "\n",
    "class Employee(Person):\n",
    "    def __init__(self, name,age, employee_id):\n",
    "        super().__init__(name, age)\n",
    "        self.employee_id = employee_id\n",
    "    def __str__(self):\n",
    "        return f'{self.name}, {self.age} and {self.employee_id}'\n",
    "    \n",
    "emp = Employee('Shyam', 31, 1234)\n",
    "print(emp)"
   ]
  },
  {
   "cell_type": "markdown",
   "id": "6e14dfaa",
   "metadata": {},
   "source": [
    "### Assignment 7: Class Composition\n",
    "\n",
    "Create a class named `Address` with attributes `street`, `city`, and `zipcode`. Create a class named `Person` that has an `Address` object as an attribute. Create an object of the `Person` class and print its address."
   ]
  },
  {
   "cell_type": "code",
   "execution_count": 12,
   "id": "fa0e1de1",
   "metadata": {},
   "outputs": [
    {
     "name": "stdout",
     "output_type": "stream",
     "text": [
      "worli, mumbai, 400018\n"
     ]
    }
   ],
   "source": [
    "class Address:\n",
    "    def __init__(self, street, city, zipcode):\n",
    "        self.street = street\n",
    "        self.city = city\n",
    "        self.zipcode = zipcode\n",
    "    def __str__(self):\n",
    "        return f'{self.street}, {self.city}, {self.zipcode}'\n",
    "\n",
    "class Person:\n",
    "    def __init__(self, street, city, zipcode):\n",
    "        self.address = Address(street, city, zipcode)\n",
    "        print(self.address)\n",
    "    \n",
    "p1 = Person('worli', 'mumbai', 400018)\n",
    "    "
   ]
  },
  {
   "cell_type": "markdown",
   "id": "bb507f31",
   "metadata": {},
   "source": [
    "### Assignment 8: Class with Class Variables\n",
    "\n",
    "Create a class named `Counter` with a class variable `count`. Each time an object is created, increment the count. Add a method to get the current count. Create multiple objects and print the count.\n"
   ]
  },
  {
   "cell_type": "code",
   "execution_count": 20,
   "id": "57a4ca92",
   "metadata": {},
   "outputs": [
    {
     "name": "stdout",
     "output_type": "stream",
     "text": [
      "0\n",
      "0\n"
     ]
    }
   ],
   "source": [
    "class Counter:\n",
    "    count = 0\n",
    "    def __init__(self):\n",
    "        Counter.count += 1\n",
    "    \n",
    "    @classmethod\n",
    "    def getcount(cls):\n",
    "        return cls.count\n",
    "\n",
    "# c1 = Counter()\n",
    "# c2 = Counter()\n",
    "# print(Counter.getcount())\n",
    "print(Counter.count)\n",
    "print(Counter.getcount())"
   ]
  },
  {
   "cell_type": "markdown",
   "id": "5bb9e8d7",
   "metadata": {},
   "source": [
    "### Assignment 9: Static Methods\n",
    "\n",
    "Create a class named `MathOperations` with a static method to calculate the square root of a number. Call the static method without creating an object."
   ]
  },
  {
   "cell_type": "code",
   "execution_count": 21,
   "id": "1de3bcfb",
   "metadata": {},
   "outputs": [
    {
     "name": "stdout",
     "output_type": "stream",
     "text": [
      "3.0\n"
     ]
    }
   ],
   "source": [
    "import math\n",
    "class MathOperations:\n",
    "    @staticmethod\n",
    "    def squareroot(num):\n",
    "        return math.sqrt(num)\n",
    "    \n",
    "print(MathOperations.squareroot(9))"
   ]
  },
  {
   "cell_type": "markdown",
   "id": "7fb505d6",
   "metadata": {},
   "source": [
    "1. Static Method\n",
    "<ul>\n",
    "<li>Defined using the @staticmethod decorator.\n",
    "<li>Does not take a self or cls parameter (unlike instance and class methods).\n",
    "<li>Does not require access to the class or its instances.\n",
    "<li>cts like a regular function but belongs to the class's namespace.\n",
    "<ul>\n",
    "\n",
    "<h4>Use Case:</h4>\n",
    "Static methods are used for utility or helper functions that do not depend on the state of the instance or the class.\n",
    "\n",
    "2. Class Method\n",
    "<ul>\n",
    "<li>Defined using the @classmethod decorator.\n",
    "<li>Takes cls as its first parameter (instead of self for instance methods).\n",
    "<li>Can access and modify the class state but not the instance state.</li>\n",
    "</ul>\n",
    "\n",
    "##### Use Case:\n",
    "Class methods are used when you need to access or modify the class state or create alternate constructors.\n"
   ]
  },
  {
   "cell_type": "markdown",
   "id": "cd70dc4b",
   "metadata": {},
   "source": [
    "### Assignment 10: Class with Properties\n",
    "\n",
    "Create a class named `Rectangle` with private attributes `length` and `width`. Use properties to get and set these attributes. Create an object of the class and test the properties."
   ]
  },
  {
   "cell_type": "code",
   "execution_count": 23,
   "id": "47e5f149",
   "metadata": {},
   "outputs": [
    {
     "name": "stdout",
     "output_type": "stream",
     "text": [
      "10 20\n",
      "20 30\n"
     ]
    }
   ],
   "source": [
    "class Rectangle:\n",
    "    def __init__(self, length, width):\n",
    "        self.__length = length\n",
    "        self.__width = width\n",
    "    \n",
    "    @property\n",
    "    def length(self):\n",
    "        return self.__length\n",
    "\n",
    "    @length.setter\n",
    "    def length(self, length):\n",
    "        self.__length = length\n",
    "\n",
    "    @property\n",
    "    def width(self):\n",
    "        return self.__width\n",
    "    \n",
    "    @width.setter\n",
    "    def width(self, width):\n",
    "        self.__width = width\n",
    "    \n",
    "rec1 = Rectangle(10,20)\n",
    "print(rec1.length, rec1.width)\n",
    "rec1.length = 20\n",
    "rec1.width = 30\n",
    "print(rec1.length, rec1.width)\n",
    "\n"
   ]
  },
  {
   "cell_type": "markdown",
   "id": "46f09160",
   "metadata": {},
   "source": [
    "### Assignment 11: Abstract Base Class\n",
    "\n",
    "Create an abstract base class named `Shape` with an abstract method `area`. Create derived classes `Circle` and `Square` that implement the `area` method. Create objects of the derived classes and call the `area` method."
   ]
  },
  {
   "cell_type": "code",
   "execution_count": 26,
   "id": "80ee13af",
   "metadata": {},
   "outputs": [
    {
     "name": "stdout",
     "output_type": "stream",
     "text": [
      "314.0\n",
      "25\n"
     ]
    }
   ],
   "source": [
    "from abc import ABC, abstractmethod\n",
    "\n",
    "class Shape(ABC):\n",
    "    @abstractmethod\n",
    "    def area():\n",
    "        pass\n",
    "\n",
    "class Circle(Shape):\n",
    "    def area(self,radius):\n",
    "        return 3.14 * radius * radius\n",
    "    \n",
    "class Square(Shape):\n",
    "    def area(self, side):\n",
    "        return side * side\n",
    "    \n",
    "c = Circle()\n",
    "print(c.area(10))\n",
    "s = Square()\n",
    "print(s.area(5))"
   ]
  },
  {
   "cell_type": "markdown",
   "id": "7dbbd142",
   "metadata": {},
   "source": [
    "### Assignment 12: Operator Overloading\n",
    "\n",
    "Create a class named `Vector` with attributes `x` and `y`. Overload the `+` operator to add two `Vector` objects. Create objects of the class and test the operator overloading."
   ]
  },
  {
   "cell_type": "code",
   "execution_count": 27,
   "id": "171f1f62",
   "metadata": {},
   "outputs": [
    {
     "name": "stdout",
     "output_type": "stream",
     "text": [
      "(6, 8)\n"
     ]
    }
   ],
   "source": [
    "class Vector:\n",
    "    def __init__(self,x,y):\n",
    "        self.x = x\n",
    "        self.y = y\n",
    "\n",
    "    def __add__(self, other):\n",
    "        return self.x + other.x , self.y + other.y\n",
    "    \n",
    "    def __str__(self):\n",
    "        return f'{self.x}, {self.y}'\n",
    "\n",
    "v1 = Vector(2, 3)\n",
    "v2 = Vector(4, 5)\n",
    "print(v1+v2)\n"
   ]
  },
  {
   "cell_type": "markdown",
   "id": "d6ea2b89",
   "metadata": {},
   "source": [
    "### Assignment 13: Class with Custom Exception\n",
    "\n",
    "Create a custom exception named `InsufficientBalanceError`. In the `BankAccount` class, raise this exception when a withdrawal amount is greater than the balance. Handle the exception and print an appropriate message."
   ]
  },
  {
   "cell_type": "code",
   "execution_count": 29,
   "id": "44a2b5ce",
   "metadata": {},
   "outputs": [
    {
     "name": "stdout",
     "output_type": "stream",
     "text": [
      "Account Successfully created for 1234\n",
      "Balance amount : 1500\n",
      "Error : Insufficient Balance!!!\n",
      "None\n",
      "Balance amount : 0\n"
     ]
    }
   ],
   "source": [
    "class InsufficientBalanceError(Exception):\n",
    "    pass\n",
    "\n",
    "class BankAccount:\n",
    "    def __init__(self, acc_no, bal):\n",
    "        self.__account_number = acc_no\n",
    "        self.__balance = bal\n",
    "    def __str__(self):\n",
    "        return f'Account Successfully created for {self.__account_number}'\n",
    "    def deposit(self,amount):\n",
    "        self.__balance += amount\n",
    "        return f'Balance amount : {self.__balance}'\n",
    "    def withdraw(self, amount):\n",
    "        try:\n",
    "            if self.__balance < amount:\n",
    "                raise InsufficientBalanceError(\"Insufficient Balance!!!\")\n",
    "            else:\n",
    "                self.__balance -= amount\n",
    "                return f'Balance amount : {self.__balance}'\n",
    "        except InsufficientBalanceError as e:\n",
    "            print(f\"Error : {e}\")\n",
    "\n",
    "BA = BankAccount(1234, 1000)\n",
    "print(BA)\n",
    "print(BA.deposit(500))\n",
    "print(BA.withdraw(3000))\n",
    "print(BA.withdraw(1500))"
   ]
  },
  {
   "cell_type": "markdown",
   "id": "ef61f7cf",
   "metadata": {},
   "source": [
    "### Assignment 14: Class with Context Manager\n",
    "\n",
    "Create a class named `FileManager` that implements the context manager protocol to open and close a file. Use this class to read the contents of a file."
   ]
  },
  {
   "cell_type": "code",
   "execution_count": 30,
   "id": "72fac981",
   "metadata": {},
   "outputs": [
    {
     "name": "stdout",
     "output_type": "stream",
     "text": [
      "Hii, I am shyam goli\n",
      "I am a python AI/ML developer\n",
      "Having the Experience of more than two and half years of Experience\n",
      "Done Comp Engg\n",
      "\n"
     ]
    }
   ],
   "source": [
    "class FileManager:\n",
    "    def __init__(self, filename, mode):\n",
    "        self.filename = filename\n",
    "        self.mode = mode\n",
    "        \n",
    "    def __enter__(self):\n",
    "        self.file = open(self.filename, self.mode)\n",
    "        return self.file\n",
    "    \n",
    "    def __exit__(self, exc_type, exc_value, traceback):\n",
    "        self.file.close()\n",
    "\n",
    "with FileManager('file.txt', 'r') as fm:\n",
    "    content = fm.read()\n",
    "    print(content)"
   ]
  },
  {
   "cell_type": "markdown",
   "id": "6a213793",
   "metadata": {},
   "source": [
    "### Assignment 15: Chaining Methods\n",
    "\n",
    "Create a class named `Calculator` with methods to add, subtract, multiply, and divide. Each method should return the object itself to allow method chaining. Create an object and chain multiple method calls."
   ]
  },
  {
   "cell_type": "code",
   "execution_count": 32,
   "id": "1d81ee41",
   "metadata": {},
   "outputs": [
    {
     "name": "stdout",
     "output_type": "stream",
     "text": [
      "300\n"
     ]
    }
   ],
   "source": [
    "class Calculator:\n",
    "    def __init__(self):\n",
    "        self.value = 0\n",
    "    def add(self, a):\n",
    "        self.value += a\n",
    "        return self\n",
    "    def sub(self, a):\n",
    "        self.value -= a\n",
    "        return self\n",
    "    def mul(self, a):\n",
    "        self.value *= a\n",
    "        return self\n",
    "    def div(self, a):\n",
    "        self.value /= a\n",
    "        return self\n",
    "    \n",
    "cal = Calculator()\n",
    "print(cal.add(10).add(20).mul(10).value)"
   ]
  }
 ],
 "metadata": {
  "kernelspec": {
   "display_name": "venv",
   "language": "python",
   "name": "python3"
  },
  "language_info": {
   "codemirror_mode": {
    "name": "ipython",
    "version": 3
   },
   "file_extension": ".py",
   "mimetype": "text/x-python",
   "name": "python",
   "nbconvert_exporter": "python",
   "pygments_lexer": "ipython3",
   "version": "3.12.5"
  }
 },
 "nbformat": 4,
 "nbformat_minor": 5
}
