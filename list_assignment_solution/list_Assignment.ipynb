{
 "cells": [
  {
   "cell_type": "markdown",
   "metadata": {},
   "source": [
    "# Module 3: Data Structures Assignments\n",
    "## Lesson 3.1: Lists"
   ]
  },
  {
   "cell_type": "markdown",
   "id": "1363552c",
   "metadata": {},
   "source": [
    "### Assignment 1: Creating and Accessing Lists\n",
    "\n",
    "Create a list of the first 20 positive integers. Print the list."
   ]
  },
  {
   "cell_type": "code",
   "execution_count": 1,
   "id": "e2f6c47f",
   "metadata": {},
   "outputs": [
    {
     "name": "stdout",
     "output_type": "stream",
     "text": [
      "[1, 2, 3, 4, 5, 6, 7, 8, 9, 10, 11, 12, 13, 14, 15, 16, 17, 18, 19, 20]\n"
     ]
    }
   ],
   "source": [
    "li = [i for i in range(1,21)]\n",
    "print(li)"
   ]
  },
  {
   "cell_type": "markdown",
   "id": "99bfb389",
   "metadata": {},
   "source": [
    "### Assignment 2: Accessing List Elements\n",
    "\n",
    "Print the first, middle, and last elements of the list created in Assignment 1."
   ]
  },
  {
   "cell_type": "code",
   "execution_count": 2,
   "id": "0772e74e",
   "metadata": {},
   "outputs": [
    {
     "name": "stdout",
     "output_type": "stream",
     "text": [
      "1 11 20\n"
     ]
    }
   ],
   "source": [
    "print(li[0], li[len(li)//2], li[-1])"
   ]
  },
  {
   "cell_type": "markdown",
   "id": "5ac31027",
   "metadata": {},
   "source": [
    "### Assignment 3: List Slicing\n",
    "\n",
    "Print the first five elements, the last five elements, and the elements from index 5 to 15 of the list created in Assignment 1."
   ]
  },
  {
   "cell_type": "code",
   "execution_count": 5,
   "id": "9db4a402",
   "metadata": {},
   "outputs": [
    {
     "name": "stdout",
     "output_type": "stream",
     "text": [
      "[1, 2, 3, 4, 5]\n",
      "[16, 17, 18, 19, 20]\n",
      "[6, 7, 8, 9, 10, 11, 12, 13, 14, 15, 16]\n"
     ]
    }
   ],
   "source": [
    "print(li[:5])\n",
    "print(li[-5:])\n",
    "print(li[5:16])"
   ]
  },
  {
   "cell_type": "markdown",
   "id": "14aed0e1",
   "metadata": {},
   "source": [
    "### Assignment 4: List Comprehensions\n",
    "\n",
    "Create a new list containing the squares of the first 10 positive integers using a list comprehension. Print the new list."
   ]
  },
  {
   "cell_type": "code",
   "execution_count": 6,
   "id": "f6f956ea",
   "metadata": {},
   "outputs": [
    {
     "name": "stdout",
     "output_type": "stream",
     "text": [
      "[1, 4, 9, 16, 25, 36, 49, 64, 81, 100]\n"
     ]
    }
   ],
   "source": [
    "new_li = [ i**2 for i in range(1,11)]\n",
    "print(new_li)"
   ]
  },
  {
   "cell_type": "markdown",
   "id": "3b37a07d",
   "metadata": {},
   "source": [
    "### Assignment 5: Filtering Lists\n",
    "\n",
    "Create a new list containing only the even numbers from the list created in Assignment 1 using a list comprehension. Print the new list."
   ]
  },
  {
   "cell_type": "code",
   "execution_count": 8,
   "id": "be7ad20c",
   "metadata": {},
   "outputs": [
    {
     "name": "stdout",
     "output_type": "stream",
     "text": [
      "[2, 4, 6, 8, 10, 12, 14, 16, 18, 20]\n"
     ]
    }
   ],
   "source": [
    "new_li = [ i for i in li if i % 2== 0]\n",
    "print(new_li)"
   ]
  },
  {
   "cell_type": "markdown",
   "id": "d86f0f1c",
   "metadata": {},
   "source": [
    "### Assignment 6: List Methods\n",
    "\n",
    "Create a list of random numbers and sort it in ascending and descending order. Remove the duplicates from the list and print the modified list."
   ]
  },
  {
   "cell_type": "code",
   "execution_count": 14,
   "id": "42162d38",
   "metadata": {},
   "outputs": [
    {
     "name": "stdout",
     "output_type": "stream",
     "text": [
      "[35, 23, 21, 35, 38, 9, 27, 19, 48, 45, 42, 29, 44, 42, 2, 23, 2, 16, 23, 11]\n",
      "[35, 23, 21, 38, 9, 27, 19, 48, 45, 42, 29, 44, 2, 16, 11]\n"
     ]
    }
   ],
   "source": [
    "import random\n",
    "li = [random.randint(1, 50) for i in range(20)]\n",
    "print(li)\n",
    "final_list = []\n",
    "for i in li:\n",
    "    if i not in final_list:\n",
    "        final_list.append(i)\n",
    "print(final_list)"
   ]
  },
  {
   "cell_type": "markdown",
   "id": "7f622b81",
   "metadata": {},
   "source": [
    "### Assignment 7: Nested Lists\n",
    "\n",
    "Create a nested list representing a 3x3 matrix and print the matrix. Access and print the element at the second row and third column."
   ]
  },
  {
   "cell_type": "code",
   "execution_count": 15,
   "id": "770c18a6",
   "metadata": {},
   "outputs": [
    {
     "name": "stdout",
     "output_type": "stream",
     "text": [
      "[4, 5, 6]\n",
      "[7, 8, 9]\n"
     ]
    }
   ],
   "source": [
    "li = [[1,2,3], [4, 5, 6], [7, 8, 9]]\n",
    "print(li[1])\n",
    "print(li[2])"
   ]
  },
  {
   "cell_type": "markdown",
   "id": "dca25490",
   "metadata": {},
   "source": [
    "### Assignment 8: List of Dictionaries\n",
    "\n",
    "Create a list of dictionaries where each dictionary represents a student with keys 'name' and 'score'. Sort the list of dictionaries by the 'score' in descending order and print the sorted list."
   ]
  },
  {
   "cell_type": "code",
   "execution_count": 20,
   "id": "d67eceb0",
   "metadata": {},
   "outputs": [
    {
     "name": "stdout",
     "output_type": "stream",
     "text": [
      "[{'name': 'shyam', 'score': 99}, {'name': 'ram', 'score': 89}, {'name': 'John', 'score': 87}, {'name': 'king', 'score': 80}, {'name': 'man', 'score': 76}]\n"
     ]
    }
   ],
   "source": [
    "students = [\n",
    "    {'name': 'shyam', 'score': 99},\n",
    "    {'name': 'ram', 'score': 89},\n",
    "    {'name': 'king', 'score': 80},\n",
    "    {'name': 'man', 'score': 76},\n",
    "    {'name': 'John', 'score': 87}\n",
    "]\n",
    "\n",
    "# Sort the list of dictionaries by the 'score' key in descending order\n",
    "students_sorted = sorted(students, key=lambda x: x['score'], reverse=True)\n",
    "\n",
    "# Print the sorted list\n",
    "print(students_sorted)\n"
   ]
  },
  {
   "cell_type": "markdown",
   "id": "e324ca37",
   "metadata": {},
   "source": [
    "### Assignment 9: Matrix Transposition\n",
    "\n",
    "Write a function that takes a 3x3 matrix (nested list) as input and returns its transpose. Print the original and transposed matrices."
   ]
  },
  {
   "cell_type": "code",
   "execution_count": 28,
   "id": "1a89334f",
   "metadata": {},
   "outputs": [
    {
     "name": "stdout",
     "output_type": "stream",
     "text": [
      "input_matrix\n",
      "1 2 3\n",
      "4 5 6\n",
      "7 8 9\n",
      "output_matrix\n",
      "1 4 7\n",
      "2 5 8\n",
      "3 6 9\n"
     ]
    }
   ],
   "source": [
    "input_matrix = []\n",
    "for i in range(3):\n",
    "    input_matrix.append(list(map(int, input().split())))\n",
    "print('input_matrix')\n",
    "for i in input_matrix:\n",
    "    print(*i)\n",
    "\n",
    "for i in range(3):\n",
    "    for j in range(i,3):\n",
    "        input_matrix[i][j], input_matrix[j][i] =  input_matrix[j][i], input_matrix[i][j]\n",
    "print('output_matrix')\n",
    "for i in input_matrix:\n",
    "    print(*i)"
   ]
  },
  {
   "cell_type": "markdown",
   "id": "b68738ae",
   "metadata": {},
   "source": [
    "### Assignment 10: Flattening a Nested List\n",
    "\n",
    "Write a function that takes a nested list and flattens it into a single list. Print the original and flattened lists."
   ]
  },
  {
   "cell_type": "code",
   "execution_count": 31,
   "id": "dbdb8ce3",
   "metadata": {},
   "outputs": [
    {
     "name": "stdout",
     "output_type": "stream",
     "text": [
      "[1, 2, 3, 4, 5, 6, 7, 8, 9]\n"
     ]
    }
   ],
   "source": [
    "nested_list = [[1, 2, 3], [4, 5, 6], [7, 8, 9]]\n",
    "length = len(nested_list)\n",
    "while(length > 0):\n",
    "    nested_list.extend(nested_list.pop(0))\n",
    "    length -= 1\n",
    "print(nested_list)"
   ]
  },
  {
   "cell_type": "markdown",
   "id": "d299787e",
   "metadata": {},
   "source": [
    "### Assignment 11: List Manipulation\n",
    "\n",
    "Create a list of the first 10 positive integers. Remove the elements at indices 2, 4, and 6, and insert the element '99' at index 5. Print the modified list.\n"
   ]
  },
  {
   "cell_type": "code",
   "execution_count": 35,
   "id": "e6bcb5c6",
   "metadata": {},
   "outputs": [
    {
     "name": "stdout",
     "output_type": "stream",
     "text": [
      "[1, 2, 3, 4, 5, 6, 7, 8, 9, 10]\n",
      "[1, 2, 4, 6, 8, 99, 9, 10]\n"
     ]
    }
   ],
   "source": [
    "li = [i for i in range(1, 11)]\n",
    "print(li)\n",
    "# li.pop(2)\n",
    "# li.pop(4)\n",
    "# li.pop(6)\n",
    "# li.insert(5, 99)\n",
    "items = [2, 4, 6]\n",
    "for i in range(len(items)):\n",
    "    # print(items[i]-i)\n",
    "    li.pop(items[i]-i)\n",
    "li.insert(5, 99)\n",
    "print(li)"
   ]
  },
  {
   "cell_type": "markdown",
   "id": "749ca2db",
   "metadata": {},
   "source": [
    "### Assignment 12: List Zipping\n",
    "\n",
    "Create two lists of the same length. Use the `zip` function to combine these lists into a list of tuples and print the result"
   ]
  },
  {
   "cell_type": "code",
   "execution_count": 37,
   "id": "f9d58e95",
   "metadata": {},
   "outputs": [
    {
     "name": "stdout",
     "output_type": "stream",
     "text": [
      "[(1, 6), (2, 7), (3, 8), (4, 9), (5, 10)]\n"
     ]
    }
   ],
   "source": [
    "li1 = [1, 2, 3, 4, 5]\n",
    "li2 = [6, 7, 8, 9, 10]\n",
    "li = []\n",
    "for i in zip(li1, li2):\n",
    "    li.append(i)\n",
    "print(li)"
   ]
  },
  {
   "cell_type": "markdown",
   "id": "fcfb9c5e",
   "metadata": {},
   "source": [
    "### Assignment 13: List Reversal\n",
    "\n",
    "Write a function that takes a list and returns a new list with the elements in reverse order. Print the original and reversed lists.\n"
   ]
  },
  {
   "cell_type": "code",
   "execution_count": 39,
   "id": "4a0463ff",
   "metadata": {},
   "outputs": [
    {
     "name": "stdout",
     "output_type": "stream",
     "text": [
      "[1, 2, 3, 4, 5]\n",
      "[5, 4, 3, 2, 1]\n"
     ]
    }
   ],
   "source": [
    "li = [1, 2, 3, 4, 5]\n",
    "print(li)\n",
    "\n",
    "li.sort(reverse=True)\n",
    "print(li)"
   ]
  },
  {
   "cell_type": "markdown",
   "id": "44dcadae",
   "metadata": {},
   "source": [
    "### Assignment 14: List Rotation\n",
    "\n",
    "Write a function that rotates a list by n positions. Print the original and rotated lists."
   ]
  },
  {
   "cell_type": "code",
   "execution_count": 42,
   "id": "bf81396a",
   "metadata": {},
   "outputs": [
    {
     "name": "stdout",
     "output_type": "stream",
     "text": [
      "[1, 2, 3, 4, 5]\n",
      "[3, 4, 5, 1, 2]\n"
     ]
    }
   ],
   "source": [
    "li = [1, 2, 3, 4, 5]\n",
    "print(li)\n",
    "for i in range(3):\n",
    "    li.insert(0, li.pop())\n",
    "print(li)"
   ]
  },
  {
   "cell_type": "markdown",
   "id": "ef9e0357",
   "metadata": {},
   "source": [
    "### Assignment 15: List Intersection\n",
    "\n",
    "Write a function that takes two lists and returns a new list containing only the elements that are present in both lists. Print the intersected list."
   ]
  },
  {
   "cell_type": "code",
   "execution_count": 43,
   "metadata": {},
   "outputs": [
    {
     "name": "stdout",
     "output_type": "stream",
     "text": [
      "[2, 4, 5]\n"
     ]
    }
   ],
   "source": [
    "li1 = [1, 2, 3, 4, 5]\n",
    "li2 = [4, 5, 2, 7, 6]\n",
    "final = []\n",
    "for i in li1:\n",
    "    if i in li2:\n",
    "        final.append(i)\n",
    "print(final)"
   ]
  },
  {
   "cell_type": "code",
   "execution_count": null,
   "id": "5c219da6",
   "metadata": {},
   "outputs": [],
   "source": []
  }
 ],
 "metadata": {
  "kernelspec": {
   "display_name": "venv",
   "language": "python",
   "name": "python3"
  },
  "language_info": {
   "codemirror_mode": {
    "name": "ipython",
    "version": 3
   },
   "file_extension": ".py",
   "mimetype": "text/x-python",
   "name": "python",
   "nbconvert_exporter": "python",
   "pygments_lexer": "ipython3",
   "version": "3.12.5"
  }
 },
 "nbformat": 4,
 "nbformat_minor": 5
}
