{
 "cells": [
  {
   "cell_type": "markdown",
   "metadata": {},
   "source": [
    "# Module: OOP Assignments\n",
    "## Lesson: Polymorphism, Abstraction, and Encapsulation\n",
    "### Assignment 1: Polymorphism with Methods\n",
    "\n",
    "Create a base class named `Shape` with a method `area`. Create two derived classes `Circle` and `Square` that override the `area` method. Create a list of `Shape` objects and call the `area` method on each object to demonstrate polymorphism.\n",
    "\n",
    "### Assignment 2: Polymorphism with Function Arguments\n",
    "\n",
    "Create a function named `describe_shape` that takes a `Shape` object as an argument and calls its `area` method. Create objects of `Circle` and `Square` classes and pass them to the `describe_shape` function.\n",
    "\n",
    "### Assignment 3: Abstract Base Class with Abstract Methods\n",
    "\n",
    "Create an abstract base class named `Vehicle` with an abstract method `start_engine`. Create derived classes `Car` and `Bike` that implement the `start_engine` method. Create objects of the derived classes and call the `start_engine` method.\n",
    "\n",
    "### Assignment 4: Abstract Base Class with Concrete Methods\n",
    "\n",
    "In the `Vehicle` class, add a concrete method `fuel_type` that returns a generic fuel type. Override this method in `Car` and `Bike` classes to return specific fuel types. Create objects of the derived classes and call the `fuel_type` method.\n",
    "\n",
    "### Assignment 5: Encapsulation with Private Attributes\n",
    "\n",
    "Create a class named `BankAccount` with private attributes `account_number` and `balance`. Add methods to deposit and withdraw money, and to check the balance. Ensure that the balance cannot be accessed directly.\n",
    "\n",
    "### Assignment 6: Encapsulation with Property Decorators\n",
    "\n",
    "In the `BankAccount` class, use property decorators to get and set the `balance` attribute. Ensure that the balance cannot be set to a negative value.\n",
    "\n",
    "### Assignment 7: Combining Encapsulation and Inheritance\n",
    "\n",
    "Create a base class named `Person` with private attributes `name` and `age`. Add methods to get and set these attributes. Create a derived class named `Student` that adds an attribute `student_id`. Create an object of the `Student` class and test the encapsulation.\n",
    "\n",
    "### Assignment 8: Polymorphism with Inheritance\n",
    "\n",
    "Create a base class named `Animal` with a method `speak`. Create two derived classes `Dog` and `Cat` that override the `speak` method. Create a list of `Animal` objects and call the `speak` method on each object to demonstrate polymorphism.\n",
    "\n",
    "### Assignment 9: Abstract Methods in Base Class\n",
    "\n",
    "Create an abstract base class named `Employee` with an abstract method `calculate_salary`. Create two derived classes `FullTimeEmployee` and `PartTimeEmployee` that implement the `calculate_salary` method. Create objects of the derived classes and call the `calculate_salary` method.\n",
    "\n",
    "### Assignment 10: Encapsulation in Data Classes\n",
    "\n",
    "Create a data class named `Product` with private attributes `product_id`, `name`, and `price`. Add methods to get and set these attributes. Ensure that the price cannot be set to a negative value.\n",
    "\n",
    "### Assignment 11: Polymorphism with Operator Overloading\n",
    "\n",
    "Create a class named `Vector` with attributes `x` and `y`. Overload the `+` operator to add two `Vector` objects. Create objects of the class and test the operator overloading.\n",
    "\n",
    "### Assignment 12: Abstract Properties\n",
    "\n",
    "Create an abstract base class named `Appliance` with an abstract property `power`. Create two derived classes `WashingMachine` and `Refrigerator` that implement the `power` property. Create objects of the derived classes and access the `power` property.\n",
    "\n",
    "### Assignment 13: Encapsulation in Class Hierarchies\n",
    "\n",
    "Create a base class named `Account` with private attributes `account_number` and `balance`. Add methods to get and set these attributes. Create a derived class named `SavingsAccount` that adds an attribute `interest_rate`. Create an object of the `SavingsAccount` class and test the encapsulation.\n",
    "\n",
    "### Assignment 14: Polymorphism with Multiple Inheritance\n",
    "\n",
    "Create a class named `Flyer` with a method `fly`. Create a class named `Swimmer` with a method `swim`. Create a class named `Superhero` that inherits from both `Flyer` and `Swimmer` and overrides both methods. Create an object of the `Superhero` class and call both methods.\n",
    "\n",
    "### Assignment 15: Abstract Methods and Multiple Inheritance\n",
    "\n",
    "Create an abstract base class named `Worker` with an abstract method `work`. Create two derived classes `Engineer` and `Doctor` that implement the `work` method. Create another derived class `Scientist` that inherits from both `Engineer` and `Doctor`. Create an object of the `Scientist` class and call the `work` method."
   ]
  },
  {
   "cell_type": "markdown",
   "id": "4d188b68",
   "metadata": {},
   "source": [
    "### Assignment 1: Polymorphism with Methods\n",
    "\n",
    "Create a base class named `Shape` with a method `area`. Create two derived classes `Circle` and `Square` that override the `area` method. Create a list of `Shape` objects and call the `area` method on each object to demonstrate polymorphism."
   ]
  },
  {
   "cell_type": "code",
   "execution_count": 4,
   "metadata": {},
   "outputs": [
    {
     "name": "stdout",
     "output_type": "stream",
     "text": [
      "4\n",
      "9\n",
      "16\n"
     ]
    }
   ],
   "source": [
    "class Shape:\n",
    "    def area(self):\n",
    "        pass\n",
    "class Circle(Shape):\n",
    "    def __init__(self,rad):\n",
    "        self.radius = rad\n",
    "    def area(self):\n",
    "        return 3.14 * self.radius * self.radius\n",
    "\n",
    "class Square(Shape):\n",
    "    def __init__(self, side):\n",
    "        self.side = side\n",
    "    def area(self):\n",
    "        return self.side * self.side\n",
    "\n",
    "li = [Square(2), Square(3), Square(4)]\n",
    "for obj in li:\n",
    "    print(obj.area())"
   ]
  },
  {
   "cell_type": "markdown",
   "id": "ffb9cc2c",
   "metadata": {},
   "source": [
    "### Assignment 2: Polymorphism with Function Arguments\n",
    "\n",
    "Create a function named `describe_shape` that takes a `Shape` object as an argument and calls its `area` method. Create objects of `Circle` and `Square` classes and pass them to the `describe_shape` function."
   ]
  },
  {
   "cell_type": "code",
   "execution_count": 5,
   "id": "bbf60cd4",
   "metadata": {},
   "outputs": [
    {
     "name": "stdout",
     "output_type": "stream",
     "text": [
      "28.259999999999998\n",
      "16\n"
     ]
    }
   ],
   "source": [
    "def describe_shape(obj):\n",
    "    return obj.area()\n",
    "\n",
    "c = Circle(3)\n",
    "s = Square(4)\n",
    "print(describe_shape(c))\n",
    "print(describe_shape(s))"
   ]
  },
  {
   "cell_type": "markdown",
   "id": "9b91fb3d",
   "metadata": {},
   "source": [
    "### Assignment 3: Abstract Base Class with Abstract Methods\n",
    "\n",
    "Create an abstract base class named `Vehicle` with an abstract method `start_engine`. Create derived classes `Car` and `Bike` that implement the `start_engine` method. Create objects of the derived classes and call the `start_engine` method."
   ]
  },
  {
   "cell_type": "code",
   "execution_count": 7,
   "id": "c1fab99a",
   "metadata": {},
   "outputs": [
    {
     "name": "stdout",
     "output_type": "stream",
     "text": [
      "Car engine starting\n",
      "Bike engine starting\n"
     ]
    }
   ],
   "source": [
    "from abc import ABC, abstractmethod\n",
    "\n",
    "class Vehicle(ABC):\n",
    "    @abstractmethod\n",
    "    def start_engine():\n",
    "        pass\n",
    "\n",
    "class Car(Vehicle):\n",
    "    def start_engine(self):\n",
    "        print(\"Car engine starting\")\n",
    "\n",
    "class Bike(Vehicle):\n",
    "    def start_engine(self):\n",
    "        print(\"Bike engine starting\")\n",
    "\n",
    "car = Car()\n",
    "car.start_engine()\n",
    "bike = Bike()\n",
    "bike.start_engine()"
   ]
  },
  {
   "cell_type": "markdown",
   "id": "b8b35775",
   "metadata": {},
   "source": [
    "### Assignment 4: Abstract Base Class with Concrete Methods\n",
    "\n",
    "In the `Vehicle` class, add a concrete method `fuel_type` that returns a generic fuel type. Override this method in `Car` and `Bike` classes to return specific fuel types. Create objects of the derived classes and call the `fuel_type` method.\n"
   ]
  },
  {
   "cell_type": "code",
   "execution_count": 9,
   "id": "193c10aa",
   "metadata": {},
   "outputs": [
    {
     "name": "stdout",
     "output_type": "stream",
     "text": [
      "Car engine starting\n",
      "Diesel\n",
      "Bike engine starting\n",
      "Petrol\n"
     ]
    }
   ],
   "source": [
    "from abc import ABC, abstractmethod\n",
    "\n",
    "class Vehicle(ABC):\n",
    "    @abstractmethod\n",
    "    def start_engine():\n",
    "        pass\n",
    "    def fuel_type():\n",
    "        return 'generic Fuel'\n",
    "\n",
    "class Car(Vehicle):\n",
    "    def start_engine(self):\n",
    "        print(\"Car engine starting\")\n",
    "    def fuel_type(self):\n",
    "        return 'Diesel'\n",
    "\n",
    "class Bike(Vehicle):\n",
    "    def start_engine(self):\n",
    "        print(\"Bike engine starting\")\n",
    "    def fuel_type(self):\n",
    "        return 'Petrol'\n",
    "\n",
    "car = Car()\n",
    "car.start_engine()\n",
    "print(car.fuel_type())\n",
    "bike = Bike()\n",
    "bike.start_engine()\n",
    "print(bike.fuel_type())"
   ]
  },
  {
   "cell_type": "markdown",
   "id": "8623ffc5",
   "metadata": {},
   "source": [
    "### Assignment 5: Encapsulation with Private Attributes\n",
    "\n",
    "Create a class named `BankAccount` with private attributes `account_number` and `balance`. Add methods to deposit and withdraw money, and to check the balance. Ensure that the balance cannot be accessed directly."
   ]
  },
  {
   "cell_type": "code",
   "execution_count": 15,
   "id": "aa4804f0",
   "metadata": {},
   "outputs": [
    {
     "name": "stdout",
     "output_type": "stream",
     "text": [
      "balance : 1000\n",
      "Error : Insufficient Balance !\n",
      "balance : 990\n"
     ]
    }
   ],
   "source": [
    "class InsufficientBalance(Exception):\n",
    "    pass\n",
    "\n",
    "class BankAccount:\n",
    "    def __init__(self, acc_no, balance):\n",
    "        self.__account_number = acc_no\n",
    "        self.__balance = balance\n",
    "    def deposit(self, amount):\n",
    "        self.__balance += amount\n",
    "        return f'balance : {self.__balance}'\n",
    "\n",
    "    def withdraw(self, amount):\n",
    "        try:\n",
    "            if self.__balance < amount:\n",
    "                raise InsufficientBalance('Insufficient Balance !')\n",
    "            else:\n",
    "                self.__balance -= amount\n",
    "                return f'balance : {self.__balance}'\n",
    "        except InsufficientBalance as e:\n",
    "            return f\"Error : {e}\"\n",
    "\n",
    "ba = BankAccount(1234, 0)\n",
    "print(ba.deposit(1000))\n",
    "print(ba.withdraw(2000))\n",
    "print(ba.withdraw(10))\n"
   ]
  },
  {
   "cell_type": "markdown",
   "id": "e688d844",
   "metadata": {},
   "source": [
    "### Assignment 6: Encapsulation with Property Decorators\n",
    "\n",
    "In the `BankAccount` class, use property decorators to get and set the `balance` attribute. Ensure that the balance cannot be set to a negative value."
   ]
  },
  {
   "cell_type": "code",
   "execution_count": 20,
   "id": "3e4264cf",
   "metadata": {},
   "outputs": [
    {
     "name": "stdout",
     "output_type": "stream",
     "text": [
      "balance cannot be negative\n",
      "0\n"
     ]
    }
   ],
   "source": [
    "class BankAccount:\n",
    "    __balance = 0\n",
    "    @property\n",
    "    def balance(self):\n",
    "        return self.__balance\n",
    "    \n",
    "    @balance.setter\n",
    "    def balance(self, balance):\n",
    "        if balance > 0:\n",
    "            self.__balance = balance\n",
    "            print('balance set success')\n",
    "        else:\n",
    "            print('balance cannot be negative')\n",
    "        \n",
    "ba = BankAccount()\n",
    "ba.balance = -10\n",
    "print(ba.balance)"
   ]
  },
  {
   "cell_type": "markdown",
   "id": "9028e677",
   "metadata": {},
   "source": [
    "### Assignment 7: Combining Encapsulation and Inheritance\n",
    "\n",
    "Create a base class named `Person` with private attributes `name` and `age`. Add methods to get and set these attributes. Create a derived class named `Student` that adds an attribute `student_id`. Create an object of the `Student` class and test the encapsulation."
   ]
  },
  {
   "cell_type": "code",
   "execution_count": 31,
   "id": "caecba30",
   "metadata": {},
   "outputs": [
    {
     "name": "stdout",
     "output_type": "stream",
     "text": [
      "shyam, 31 1234\n"
     ]
    }
   ],
   "source": [
    "class Person:\n",
    "    @property\n",
    "    def name(self):\n",
    "        return self.__name\n",
    "    @name.setter\n",
    "    def name(self,name):\n",
    "        self.__name = name\n",
    "    \n",
    "    @property\n",
    "    def age(self):\n",
    "        return self.__age\n",
    "    @age.setter\n",
    "    def age(self,age):\n",
    "        self.__age = age\n",
    "\n",
    "class Student(Person):\n",
    "    def __init__(self,name, age, student_id):\n",
    "        self.name = name\n",
    "        self.age = age\n",
    "        self.student_id = student_id\n",
    "    def __str__(self):\n",
    "        return f'{self.name}, {self.age} {self.student_id}'\n",
    "\n",
    "st = Student('shyam', 31, 1234)\n",
    "print(st)"
   ]
  },
  {
   "cell_type": "markdown",
   "id": "daec67be",
   "metadata": {},
   "source": [
    "### Assignment 8: Polymorphism with Inheritance\n",
    "\n",
    "Create a base class named `Animal` with a method `speak`. Create two derived classes `Dog` and `Cat` that override the `speak` method. Create a list of `Animal` objects and call the `speak` method on each object to demonstrate polymorphism."
   ]
  },
  {
   "cell_type": "code",
   "execution_count": 33,
   "id": "8f1a32c2",
   "metadata": {},
   "outputs": [
    {
     "name": "stdout",
     "output_type": "stream",
     "text": [
      "BOW BOW\n",
      "Meow Meow\n",
      "BOW BOW\n"
     ]
    }
   ],
   "source": [
    "class Animal:\n",
    "    def speak():\n",
    "        pass\n",
    "class Dog(Animal):\n",
    "    def speak(self):\n",
    "        return \"BOW BOW\"\n",
    "class Cat(Animal):\n",
    "    def speak(self):\n",
    "        return \"Meow Meow\"\n",
    "\n",
    "li = [Dog(), Cat(), Dog()]\n",
    "for obj in li:\n",
    "    print(obj.speak())"
   ]
  },
  {
   "cell_type": "markdown",
   "id": "b9409da1",
   "metadata": {},
   "source": [
    "### Assignment 9: Abstract Methods in Base Class\n",
    "\n",
    "Create an abstract base class named `Employee` with an abstract method `calculate_salary`. Create two derived classes `FullTimeEmployee` and `PartTimeEmployee` that implement the `calculate_salary` method. Create objects of the derived classes and call the `calculate_salary` method."
   ]
  },
  {
   "cell_type": "code",
   "execution_count": 34,
   "id": "0fafb7f2",
   "metadata": {},
   "outputs": [
    {
     "name": "stdout",
     "output_type": "stream",
     "text": [
      "salary : 24000\n",
      "salary : 12000\n"
     ]
    }
   ],
   "source": [
    "from abc import ABC, abstractmethod\n",
    "\n",
    "class Employee(ABC):\n",
    "    @abstractmethod\n",
    "    def calculate_salary():\n",
    "        pass\n",
    "\n",
    "class FullTimeEmployee(Employee):\n",
    "    def calculate_salary(self, daysal):\n",
    "        return f'salary : {daysal*8*30}'\n",
    "\n",
    "class PartTimeEmployee(Employee):\n",
    "    def calculate_salary(self, daysal):\n",
    "        return f'salary : {daysal*4*30}'\n",
    "    \n",
    "emp1 = FullTimeEmployee()\n",
    "print(emp1.calculate_salary(100))\n",
    "emp2 = PartTimeEmployee()\n",
    "print(emp2.calculate_salary(100))\n",
    "\n",
    "        "
   ]
  },
  {
   "cell_type": "markdown",
   "id": "c4497269",
   "metadata": {},
   "source": [
    "### Assignment 10: Encapsulation in Data Classes\n",
    "\n",
    "Create a data class named `Product` with private attributes `product_id`, `name`, and `price`. Add methods to get and set these attributes. Ensure that the price cannot be set to a negative value.\n",
    "\n"
   ]
  },
  {
   "cell_type": "code",
   "execution_count": 38,
   "id": "836ca71c",
   "metadata": {},
   "outputs": [
    {
     "name": "stdout",
     "output_type": "stream",
     "text": [
      "Error : Price cannot be Negative!\n"
     ]
    }
   ],
   "source": [
    "class NegativeError(Exception):\n",
    "    pass\n",
    "\n",
    "class Product:\n",
    "    @property\n",
    "    def product_id(self):\n",
    "        return self.__product_id\n",
    "    @product_id.setter\n",
    "    def product_id(self, product_id):\n",
    "        self.__product_id = product_id\n",
    "\n",
    "    @property\n",
    "    def name(self):\n",
    "        return self.__name\n",
    "    @name.setter\n",
    "    def name(self, name):\n",
    "        self.__name = name\n",
    "    \n",
    "    @property\n",
    "    def price(self):\n",
    "        return self.__price\n",
    "    @price.setter\n",
    "    def price(self, price):\n",
    "        try:\n",
    "            if price < 0:\n",
    "                raise NegativeError('Price cannot be Negative!')\n",
    "            else:\n",
    "                self.__price = price\n",
    "        except NegativeError as err:\n",
    "            print(f'Error : {err}')\n",
    "\n",
    "p1 = Product()\n",
    "p1.name = \"Shyam\"\n",
    "p1.product_id = 1234\n",
    "p1.price = -100"
   ]
  },
  {
   "cell_type": "markdown",
   "id": "5ac7c71a",
   "metadata": {},
   "source": [
    "### Assignment 11: Polymorphism with Operator Overloading\n",
    "\n",
    "Create a class named `Vector` with attributes `x` and `y`. Overload the `+` operator to add two `Vector` objects. Create objects of the class and test the operator overloading.\n",
    "\n"
   ]
  },
  {
   "cell_type": "code",
   "execution_count": 42,
   "id": "b4b46314",
   "metadata": {},
   "outputs": [
    {
     "name": "stdout",
     "output_type": "stream",
     "text": [
      "[1, 2, 3, 4, 5, 6]\n"
     ]
    }
   ],
   "source": [
    "class Vector:\n",
    "    def __init__(self, x):\n",
    "        self.x = x\n",
    "\n",
    "    def __add__(self, other_obj):\n",
    "        return self.x + other_obj.x\n",
    "\n",
    "v1 = Vector([1,2,3])\n",
    "v2 = Vector([4,5,6])\n",
    "print(v1 + v2)"
   ]
  },
  {
   "cell_type": "markdown",
   "id": "e367d6c2",
   "metadata": {},
   "source": [
    "### Assignment 12: Abstract Properties\n",
    "\n",
    "Create an abstract base class named `Appliance` with an abstract property `power`. Create two derived classes `WashingMachine` and `Refrigerator` that implement the `power` property. Create objects of the derived classes and access the `power` property."
   ]
  },
  {
   "cell_type": "code",
   "execution_count": 44,
   "id": "17b9e67b",
   "metadata": {},
   "outputs": [
    {
     "name": "stdout",
     "output_type": "stream",
     "text": [
      "220W\n",
      "160W\n"
     ]
    }
   ],
   "source": [
    "from abc import ABC, abstractmethod\n",
    "class Appliance(ABC):\n",
    "    @property\n",
    "    @abstractmethod\n",
    "    def power():\n",
    "        pass\n",
    "\n",
    "class WashingMachine(Appliance):\n",
    "    @property\n",
    "    def power(self):\n",
    "        return '220W'\n",
    "class Refrigerator(Appliance):\n",
    "    @property\n",
    "    def power(self):\n",
    "        return '160W'\n",
    "    \n",
    "wm = WashingMachine()\n",
    "print(wm.power)\n",
    "rf = Refrigerator()\n",
    "print(rf.power)"
   ]
  },
  {
   "cell_type": "markdown",
   "id": "9ba06723",
   "metadata": {},
   "source": [
    "### Assignment 13: Encapsulation in Class Hierarchies\n",
    "\n",
    "Create a base class named `Account` with private attributes `account_number` and `balance`. Add methods to get and set these attributes. Create a derived class named `SavingsAccount` that adds an attribute `interest_rate`. Create an object of the `SavingsAccount` class and test the encapsulation."
   ]
  },
  {
   "cell_type": "code",
   "execution_count": 47,
   "id": "5ec595e7",
   "metadata": {},
   "outputs": [
    {
     "name": "stdout",
     "output_type": "stream",
     "text": [
      "1234, 1000, 10\n"
     ]
    }
   ],
   "source": [
    "class Account:\n",
    "    @property\n",
    "    def account_number(self):\n",
    "        return self.__account_number\n",
    "    @account_number.setter\n",
    "    def account_number(self, account_number):\n",
    "        self.__account_number = account_number\n",
    "\n",
    "    @property\n",
    "    def balance(self):\n",
    "        return self.__balance\n",
    "    @balance.setter\n",
    "    def balance(self,balance):\n",
    "        self.__balance = balance\n",
    "    \n",
    "class SavingAccount(Account):\n",
    "    def __init__(self, acc_no, bal, int_rate):\n",
    "        self.account_number = acc_no\n",
    "        self.balance = bal\n",
    "        self.interest_rate = int_rate\n",
    "    def __str__(self):\n",
    "        return f'{self.account_number}, {self.balance}, {self.interest_rate}'\n",
    "    \n",
    "acc = SavingAccount(1234, 1000, 10)\n",
    "print(acc)\n",
    "    "
   ]
  },
  {
   "cell_type": "markdown",
   "id": "54c1c2f8",
   "metadata": {},
   "source": [
    "### Assignment 14: Polymorphism with Multiple Inheritance\n",
    "\n",
    "Create a class named `Flyer` with a method `fly`. Create a class named `Swimmer` with a method `swim`. Create a class named `Superhero` that inherits from both `Flyer` and `Swimmer` and overrides both methods. Create an object of the `Superhero` class and call both methods."
   ]
  },
  {
   "cell_type": "code",
   "execution_count": 48,
   "id": "0b24a0fa",
   "metadata": {},
   "outputs": [
    {
     "name": "stdout",
     "output_type": "stream",
     "text": [
      "flying\n",
      "swimming\n"
     ]
    }
   ],
   "source": [
    "class Flyer:\n",
    "    def fly(self):\n",
    "        return 'flies'\n",
    "\n",
    "class Swimmer:\n",
    "    def swim(self):\n",
    "        return 'swims'\n",
    "    \n",
    "class Superhero(Flyer, Swimmer):\n",
    "    def fly(self):\n",
    "        return 'flying'\n",
    "    def swim(self):\n",
    "        return 'swimming'\n",
    "    \n",
    "sup = Superhero()\n",
    "print(sup.fly())\n",
    "print(sup.swim())"
   ]
  },
  {
   "cell_type": "markdown",
   "id": "5b0ebcae",
   "metadata": {},
   "source": [
    "### Assignment 15: Abstract Methods and Multiple Inheritance\n",
    "\n",
    "Create an abstract base class named `Worker` with an abstract method `work`. Create two derived classes `Engineer` and `Doctor` that implement the `work` method. Create another derived class `Scientist` that inherits from both `Engineer` and `Doctor`. Create an object of the `Scientist` class and call the `work` method."
   ]
  },
  {
   "cell_type": "code",
   "execution_count": 54,
   "id": "c2c14cb0",
   "metadata": {},
   "outputs": [
    {
     "name": "stdout",
     "output_type": "stream",
     "text": [
      "Engineer new things\n",
      "Treats the Patients\n"
     ]
    }
   ],
   "source": [
    "from abc import ABC, abstractmethod\n",
    "class Worker(ABC):\n",
    "    @abstractmethod\n",
    "    def work(self):\n",
    "        pass\n",
    "\n",
    "class Engineer(Worker):\n",
    "    def work(self):\n",
    "        return 'Engineer new things'\n",
    "\n",
    "class Doctor(Worker):\n",
    "    def work(self):\n",
    "        return 'Treats the Patients'\n",
    "    \n",
    "class Scientist(Engineer, Doctor):\n",
    "    def another(self):\n",
    "        return Doctor.work(self)\n",
    "\n",
    "sc = Scientist()\n",
    "print(sc.work())\n",
    "print(sc.another())"
   ]
  },
  {
   "cell_type": "code",
   "execution_count": null,
   "id": "a63c0bf8",
   "metadata": {},
   "outputs": [],
   "source": []
  }
 ],
 "metadata": {
  "kernelspec": {
   "display_name": "venv",
   "language": "python",
   "name": "python3"
  },
  "language_info": {
   "codemirror_mode": {
    "name": "ipython",
    "version": 3
   },
   "file_extension": ".py",
   "mimetype": "text/x-python",
   "name": "python",
   "nbconvert_exporter": "python",
   "pygments_lexer": "ipython3",
   "version": "3.12.5"
  }
 },
 "nbformat": 4,
 "nbformat_minor": 5
}
