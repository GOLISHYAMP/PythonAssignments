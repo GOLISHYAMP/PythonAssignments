{
 "cells": [
  {
   "cell_type": "markdown",
   "metadata": {},
   "source": [
    "# Module: NumPy Assignments\n",
    "## Lesson: NumPy"
   ]
  },
  {
   "cell_type": "markdown",
   "id": "b6494762",
   "metadata": {},
   "source": [
    "### Assignment 1: Array Creation and Manipulation\n",
    "\n",
    "1. Create a NumPy array of shape (5, 5) filled with random integers between 1 and 20. Replace all the elements in the third column with 1.\n",
    "2. Create a NumPy array of shape (4, 4) with values from 1 to 16. Replace the diagonal elements with 0."
   ]
  },
  {
   "cell_type": "code",
   "execution_count": 1,
   "metadata": {},
   "outputs": [],
   "source": [
    "import numpy as np\n",
    "import pandas as pd"
   ]
  },
  {
   "cell_type": "code",
   "execution_count": 5,
   "id": "46eb6445",
   "metadata": {},
   "outputs": [
    {
     "data": {
      "text/plain": [
       "array([[11,  4,  1, 12,  8],\n",
       "       [18, 20,  1, 18, 11],\n",
       "       [14,  1,  1,  7, 13],\n",
       "       [ 8, 17,  1, 13,  9],\n",
       "       [16, 15,  1,  2, 18]], dtype=int32)"
      ]
     },
     "execution_count": 5,
     "metadata": {},
     "output_type": "execute_result"
    }
   ],
   "source": [
    "arr = np.random.randint(1,21, (5,5))\n",
    "arr[:, 2] = 1\n",
    "arr"
   ]
  },
  {
   "cell_type": "code",
   "execution_count": 6,
   "id": "1e3442f2",
   "metadata": {},
   "outputs": [
    {
     "data": {
      "text/plain": [
       "array([[ 0,  2, 16, 10],\n",
       "       [16,  0,  1,  7],\n",
       "       [13,  9,  0,  7],\n",
       "       [ 6, 13,  5,  0]], dtype=int32)"
      ]
     },
     "execution_count": 6,
     "metadata": {},
     "output_type": "execute_result"
    }
   ],
   "source": [
    "arr = np.random.randint(1,17, (4,4))\n",
    "for i in range(len(arr[0])):\n",
    "    arr[i][i] = 0\n",
    "arr"
   ]
  },
  {
   "cell_type": "markdown",
   "id": "ea32d0e5",
   "metadata": {},
   "source": [
    "### Assignment 2: Array Indexing and Slicing\n",
    "\n",
    "1. Create a NumPy array of shape (6, 6) with values from 1 to 36. Extract the sub-array consisting of the 3rd to 5th rows and 2nd to 4th columns.\n",
    "2. Create a NumPy array of shape (5, 5) with random integers. Extract the elements on the border."
   ]
  },
  {
   "cell_type": "code",
   "execution_count": 7,
   "id": "1b466838",
   "metadata": {},
   "outputs": [
    {
     "data": {
      "text/plain": [
       "array([[26, 33, 35, 31],\n",
       "       [ 8,  3,  2, 34],\n",
       "       [16, 36, 32, 32]], dtype=int32)"
      ]
     },
     "execution_count": 7,
     "metadata": {},
     "output_type": "execute_result"
    }
   ],
   "source": [
    "arr = np.random.randint(1,37, (6,6))\n",
    "arr[2:5, 1:5]"
   ]
  },
  {
   "cell_type": "code",
   "execution_count": 11,
   "id": "c5dcfba4",
   "metadata": {},
   "outputs": [
    {
     "name": "stdout",
     "output_type": "stream",
     "text": [
      "[17  9 15 13 20] [27 30 32 20  6] [17 20  3 14 27] [20 13 17  4  6]\n"
     ]
    }
   ],
   "source": [
    "arr = np.random.randint(1,37, (5,5))\n",
    "print(arr[0, :], arr[4, :], arr[:, 0], arr[:, 4])"
   ]
  },
  {
   "cell_type": "markdown",
   "id": "f237b9a2",
   "metadata": {},
   "source": [
    "### Assignment 3: Array Operations\n",
    "\n",
    "1. Create two NumPy arrays of shape (3, 4) filled with random integers. Perform element-wise addition, subtraction, multiplication, and division.\n",
    "2. Create a NumPy array of shape (4, 4) with values from 1 to 16. Compute the row-wise and column-wise sum."
   ]
  },
  {
   "cell_type": "code",
   "execution_count": 13,
   "id": "f353ff10",
   "metadata": {},
   "outputs": [
    {
     "name": "stdout",
     "output_type": "stream",
     "text": [
      "[[100  18  91   9]\n",
      " [ 42  52  62  67]\n",
      " [ 78  79  57  37]]\n",
      "[[ 14   2  89  -3]\n",
      " [-20  28   6   7]\n",
      " [ 76  -5   9  27]]\n",
      "[[2451   80   90   18]\n",
      " [ 341  480  952 1110]\n",
      " [  77 1554  792  160]]\n",
      "[[ 1.3255814   1.25       90.          0.5       ]\n",
      " [ 0.35483871  3.33333333  1.21428571  1.23333333]\n",
      " [77.          0.88095238  1.375       6.4       ]]\n"
     ]
    }
   ],
   "source": [
    "arr1 = np.random.randint(1, 100, size=(3,4))\n",
    "arr2 = np.random.randint(1, 50, size=(3, 4))\n",
    "print(arr1 + arr2)\n",
    "print(arr1-arr2)\n",
    "print(arr1*arr2)\n",
    "print(arr1 / arr2)"
   ]
  },
  {
   "cell_type": "code",
   "execution_count": 15,
   "id": "778f8729",
   "metadata": {},
   "outputs": [
    {
     "name": "stdout",
     "output_type": "stream",
     "text": [
      "[[12  1 15  9]\n",
      " [ 7 11 11  5]\n",
      " [16 16  1  8]\n",
      " [16 15 11  7]]\n",
      "[51 43 38 29]\n",
      "[37 34 41 49]\n"
     ]
    }
   ],
   "source": [
    "arr = np.random.randint(1, 17, (4,4))\n",
    "print(arr)\n",
    "print(arr.sum(axis = 0))\n",
    "print(arr.sum(axis = 1))"
   ]
  },
  {
   "cell_type": "markdown",
   "id": "e806f11b",
   "metadata": {},
   "source": [
    "### Assignment 4: Statistical Operations\n",
    "\n",
    "1. Create a NumPy array of shape (5, 5) filled with random integers. Compute the mean, median, standard deviation, and variance of the array.\n",
    "2. Create a NumPy array of shape (3, 3) with values from 1 to 9. Normalize the array (i.e., scale the values to have a mean of 0 and a standard deviation of 1).\n"
   ]
  },
  {
   "cell_type": "code",
   "execution_count": 20,
   "id": "2bb928ad",
   "metadata": {},
   "outputs": [
    {
     "name": "stdout",
     "output_type": "stream",
     "text": [
      "36.76 25.69401486727989 660.1824\n"
     ]
    }
   ],
   "source": [
    "arr = np.random.randint(1,100, (5,5))\n",
    "print(arr.mean(), arr.std(), arr.var())"
   ]
  },
  {
   "cell_type": "code",
   "execution_count": 21,
   "id": "fafe5dd5",
   "metadata": {},
   "outputs": [
    {
     "name": "stdout",
     "output_type": "stream",
     "text": [
      "[[ 0.58299883  1.05999788  1.05999788]\n",
      " [ 0.58299883 -1.32499735  0.10599979]\n",
      " [-0.8479983   0.58299883 -1.8019964 ]]\n"
     ]
    }
   ],
   "source": [
    "arr = np.random.randint(1,10, (3,3))\n",
    "print((arr - arr.mean()) / arr.std())"
   ]
  },
  {
   "cell_type": "markdown",
   "id": "aa40e5f3",
   "metadata": {},
   "source": [
    "### Assignment 5: Broadcasting\n",
    "\n",
    "1. Create a NumPy array of shape (3, 3) filled with random integers. Add a 1D array of shape (3,) to each row of the 2D array using broadcasting.\n",
    "2. Create a NumPy array of shape (4, 4) filled with random integers. Subtract a 1D array of shape (4,) from each column of the 2D array using broadcasting."
   ]
  },
  {
   "cell_type": "code",
   "execution_count": 24,
   "id": "968aed6b",
   "metadata": {},
   "outputs": [
    {
     "name": "stdout",
     "output_type": "stream",
     "text": [
      "[[85 77 44]\n",
      " [95 22 85]\n",
      " [ 7 92 62]]\n",
      "[1 2 3]\n",
      "[[86 79 47]\n",
      " [96 24 88]\n",
      " [ 8 94 65]]\n"
     ]
    }
   ],
   "source": [
    "arr = np.random.randint(1, 100, (3,3))\n",
    "arr1 = np.arange(1,4)\n",
    "print(arr)\n",
    "print(arr1)\n",
    "print(arr + arr1)\n"
   ]
  },
  {
   "cell_type": "code",
   "execution_count": 25,
   "id": "f41ad76a",
   "metadata": {},
   "outputs": [
    {
     "name": "stdout",
     "output_type": "stream",
     "text": [
      "[[ 6 64 81 24]\n",
      " [36 56 42 62]\n",
      " [68 70 48 33]\n",
      " [ 9 43 16 10]]\n",
      "[1 2 3 4]\n",
      "[[ 5 62 78 20]\n",
      " [35 54 39 58]\n",
      " [67 68 45 29]\n",
      " [ 8 41 13  6]]\n"
     ]
    }
   ],
   "source": [
    "arr = np.random.randint(1, 100, (4, 4))\n",
    "arr1 = np.arange(1,5)\n",
    "print(arr)\n",
    "print(arr1)\n",
    "print(arr - arr1)\n"
   ]
  },
  {
   "cell_type": "markdown",
   "id": "bcd2aa34",
   "metadata": {},
   "source": [
    "\n",
    "### Assignment 6: Linear Algebra\n",
    "\n",
    "1. Create a NumPy array of shape (3, 3) representing a matrix. Compute its determinant, inverse, and eigenvalues.\n",
    "2. Create two NumPy arrays of shape (2, 3) and (3, 2). Perform matrix multiplication on these arrays."
   ]
  },
  {
   "cell_type": "code",
   "execution_count": 31,
   "id": "ebe56214",
   "metadata": {},
   "outputs": [
    {
     "name": "stdout",
     "output_type": "stream",
     "text": [
      "[[ 6 19 17]\n",
      " [18  4  6]\n",
      " [ 2 17  7]]\n",
      "2456.0\n",
      "[[-0.03013029  0.06351792  0.01872964]\n",
      " [-0.04641694  0.00325733  0.10993485]\n",
      " [ 0.1213355  -0.02605863 -0.12947883]]\n",
      "EigResult(eigenvalues=array([31.60742851+0.j        , -7.30371426+4.93548484j,\n",
      "       -7.30371426-4.93548484j]), eigenvectors=array([[ 0.70493695+0.j        ,  0.07590495-0.3132414j ,\n",
      "         0.07590495+0.3132414j ],\n",
      "       [ 0.55547033+0.j        , -0.59492048+0.23904746j,\n",
      "        -0.59492048-0.23904746j],\n",
      "       [ 0.44104037+0.j        ,  0.69645115+0.j        ,\n",
      "         0.69645115-0.j        ]]))\n"
     ]
    }
   ],
   "source": [
    "# arr = np.arange(1,10).reshape(3,3)\n",
    "arr = np.random.randint(1, 20, (3,3))\n",
    "print(arr)\n",
    "print(np.linalg.det(arr))\n",
    "print(np.linalg.inv(arr))\n",
    "print(np.linalg.eig(arr))"
   ]
  },
  {
   "cell_type": "code",
   "execution_count": 35,
   "id": "58101820",
   "metadata": {},
   "outputs": [
    {
     "name": "stdout",
     "output_type": "stream",
     "text": [
      "[[12  8 13]\n",
      " [ 3 13 12]]\n",
      "[[9 9]\n",
      " [2 2]\n",
      " [9 7]]\n"
     ]
    },
    {
     "data": {
      "text/plain": [
       "array([[241, 215],\n",
       "       [161, 137]], dtype=int32)"
      ]
     },
     "execution_count": 35,
     "metadata": {},
     "output_type": "execute_result"
    }
   ],
   "source": [
    "arr1 = np.random.randint(1, 20, (2,3))\n",
    "arr2 = np.random.randint(1, 20, (3,2))\n",
    "print(arr1)\n",
    "print(arr2)\n",
    "np.matmul(arr1, arr2)\n"
   ]
  },
  {
   "cell_type": "markdown",
   "id": "b99b9acb",
   "metadata": {},
   "source": [
    "### Assignment 7: Advanced Array Manipulation\n",
    "\n",
    "1. Create a NumPy array of shape (3, 3) with values from 1 to 9. Reshape the array to shape (1, 9) and then to shape (9, 1).\n",
    "2. Create a NumPy array of shape (5, 5) filled with random integers. Flatten the array and then reshape it back to (5, 5)."
   ]
  },
  {
   "cell_type": "code",
   "execution_count": 36,
   "id": "1a9e0f27",
   "metadata": {},
   "outputs": [
    {
     "name": "stdout",
     "output_type": "stream",
     "text": [
      "[[8 1 2 4 3 5 4 5 5]]\n",
      "[[8]\n",
      " [1]\n",
      " [2]\n",
      " [4]\n",
      " [3]\n",
      " [5]\n",
      " [4]\n",
      " [5]\n",
      " [5]]\n"
     ]
    }
   ],
   "source": [
    "arr = np.random.randint(1,10, (3,3))\n",
    "print(arr.reshape(1,9))\n",
    "print(arr.reshape(9,1))"
   ]
  },
  {
   "cell_type": "markdown",
   "id": "d4466342",
   "metadata": {},
   "source": [
    "### Assignment 8: Fancy Indexing and Boolean Indexing\n",
    "\n",
    "1. Create a NumPy array of shape (5, 5) filled with random integers. Use fancy indexing to extract the elements at the corners of the array.\n",
    "2. Create a NumPy array of shape (4, 4) filled with random integers. Use boolean indexing to set all elements greater than 10 to 10."
   ]
  },
  {
   "cell_type": "code",
   "execution_count": 47,
   "id": "eab6567a",
   "metadata": {},
   "outputs": [
    {
     "name": "stdout",
     "output_type": "stream",
     "text": [
      "[[ 6  7 17 21  7]\n",
      " [16 11 13 15  5]\n",
      " [21 23  1  7 10]\n",
      " [15  2 23 20  1]\n",
      " [ 9  9 22  8 22]]\n",
      "[ 6  7  9 22]\n"
     ]
    }
   ],
   "source": [
    "arr = np.random.randint(1, 26, (5,5))\n",
    "print(arr)\n",
    "# corners = arr[1:3, :]\n",
    "# to print the diagonal elements\n",
    "# diagonal_elements = arr[[i for i in range(5)], [i for i in range(5)]]\n",
    "corners = arr[[0,0, -1, -1], [0, -1, 0, -1]]\n",
    "print(corners)"
   ]
  },
  {
   "cell_type": "code",
   "execution_count": 48,
   "id": "a02155a3",
   "metadata": {},
   "outputs": [
    {
     "name": "stdout",
     "output_type": "stream",
     "text": [
      "[[ 3 13 16 15]\n",
      " [17 16  6 19]\n",
      " [ 6  7 10 13]\n",
      " [14  4 10  9]]\n",
      "[[ 3 10 10 10]\n",
      " [10 10  6 10]\n",
      " [ 6  7 10 10]\n",
      " [10  4 10  9]]\n"
     ]
    }
   ],
   "source": [
    "arr =  np.random.randint(1, 21, (4,4))\n",
    "print(arr)\n",
    "arr[arr > 10] = 10\n",
    "print(arr)"
   ]
  },
  {
   "cell_type": "markdown",
   "id": "53129be4",
   "metadata": {},
   "source": [
    "### Assignment 9: Structured Arrays\n",
    "\n",
    "1. Create a structured array with fields 'name' (string), 'age' (integer), and 'weight' (float). Add some data and sort the array by age.\n",
    "2. Create a structured array with fields 'x' and 'y' (both integers). Add some data and compute the Euclidean distance between each pair of points."
   ]
  },
  {
   "cell_type": "code",
   "execution_count": 60,
   "id": "64894988",
   "metadata": {},
   "outputs": [
    {
     "name": "stdout",
     "output_type": "stream",
     "text": [
      "[('Alice', 25, 55.5) ('Bob', 30, 85.3) ('Charles', 20, 65.2)]\n",
      "[('Charles', 20, 65.2) ('Alice', 25, 55.5) ('Bob', 30, 85.3)]\n"
     ]
    }
   ],
   "source": [
    "data_type = [('name', 'U10'), ('age', 'i4'), ('weight', 'f4')]\n",
    "data = np.array([('Alice', 25, 55.5), ('Bob', 30, 85.3), ('Charles', 20, 65.2)], dtype= data_type)\n",
    "print(data)\n",
    "\n",
    "sort_arr = np.sort(data, order='age')\n",
    "print(sort_arr)"
   ]
  },
  {
   "cell_type": "code",
   "execution_count": 68,
   "id": "8526f8ae",
   "metadata": {},
   "outputs": [
    {
     "name": "stdout",
     "output_type": "stream",
     "text": [
      "[[1 3]\n",
      " [2 4]\n",
      " [4 6]]\n",
      "[1 3] [2 4]\n",
      "1.4142135623730951\n",
      "[2 4] [4 6]\n",
      "2.8284271247461903\n"
     ]
    }
   ],
   "source": [
    "data_type = [('x', 'i4'), ('y', 'i4')]\n",
    "arr = np.array([(1,3), (2,4), (4,6)])\n",
    "print(arr)\n",
    "for i in range(len(arr)-1):\n",
    "    print(arr[i], arr[i+1])\n",
    "    print(np.sqrt((arr[i+1][0] - arr[i][0])**2 +  (arr[i+1][1] - arr[i][1])**2))"
   ]
  },
  {
   "cell_type": "markdown",
   "id": "69ac01db",
   "metadata": {},
   "source": [
    "### Assignment 10: Masked Arrays\n",
    "\n",
    "1. Create a masked array of shape (4, 4) with random integers and mask the elements greater than 10. Compute the sum of the unmasked elements.\n",
    "2. Create a masked array of shape (3, 3) with random integers and mask the diagonal elements. Replace the masked elements with the mean of the unmasked elements."
   ]
  },
  {
   "cell_type": "code",
   "execution_count": 70,
   "id": "2a61cb67",
   "metadata": {},
   "outputs": [
    {
     "name": "stdout",
     "output_type": "stream",
     "text": [
      "[[ 0  9  0  5]\n",
      " [ 1 10  5 10]\n",
      " [ 7  0  0  0]\n",
      " [ 3  1  9  0]]\n",
      "60\n"
     ]
    }
   ],
   "source": [
    "arr = np.random.randint(1,16, (4,4))\n",
    "arr[arr>10] = 0\n",
    "print(arr)\n",
    "print(arr.sum())"
   ]
  },
  {
   "cell_type": "code",
   "execution_count": 72,
   "id": "7d4a08b7",
   "metadata": {},
   "outputs": [
    {
     "name": "stdout",
     "output_type": "stream",
     "text": [
      "[[14 10 12 14]\n",
      " [11 15 12 14]\n",
      " [ 3  4 12 10]\n",
      " [12  4  9  6]]\n",
      "[[-- 10 -- --]\n",
      " [-- -- -- --]\n",
      " [3 4 -- 10]\n",
      " [-- 4 9 6]]\n",
      "46\n"
     ]
    }
   ],
   "source": [
    "import numpy.ma as ma\n",
    "arr = np.random.randint(1,16, (4,4))\n",
    "print(arr)\n",
    "masked_arr = ma.masked_greater(arr, 10)\n",
    "print(masked_arr)\n",
    "print(masked_arr.sum())"
   ]
  },
  {
   "cell_type": "code",
   "execution_count": 76,
   "id": "b540f8ea",
   "metadata": {},
   "outputs": [
    {
     "name": "stdout",
     "output_type": "stream",
     "text": [
      "[[ 4  2 13]\n",
      " [ 1 10  9]\n",
      " [11  3 11]]\n",
      "[[-- 2 13]\n",
      " [1 -- 9]\n",
      " [11 3 --]]\n",
      "mean :  6.5\n",
      "[[ 6  2 13]\n",
      " [ 1  6  9]\n",
      " [11  3  6]]\n"
     ]
    }
   ],
   "source": [
    "arr = np.random.randint(1,16, (3,3))\n",
    "print(arr)\n",
    "masked_arr = ma.masked_array(arr, mask= np.eye(3))\n",
    "print(masked_arr)\n",
    "mean_arr = masked_arr.mean()\n",
    "print('mean : ',mean_arr)\n",
    "print(masked_arr.filled(mean_arr))\n"
   ]
  },
  {
   "cell_type": "code",
   "execution_count": null,
   "id": "768456e3",
   "metadata": {},
   "outputs": [],
   "source": []
  }
 ],
 "metadata": {
  "kernelspec": {
   "display_name": "venv",
   "language": "python",
   "name": "python3"
  },
  "language_info": {
   "codemirror_mode": {
    "name": "ipython",
    "version": 3
   },
   "file_extension": ".py",
   "mimetype": "text/x-python",
   "name": "python",
   "nbconvert_exporter": "python",
   "pygments_lexer": "ipython3",
   "version": "3.12.5"
  }
 },
 "nbformat": 4,
 "nbformat_minor": 5
}
