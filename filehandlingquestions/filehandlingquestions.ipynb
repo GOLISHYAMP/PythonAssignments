{
 "cells": [
  {
   "cell_type": "markdown",
   "metadata": {},
   "source": [
    "# Module: File Handling Assignments\n",
    "## Lesson: File Handling and Operations\n",
    "### Assignment 1: Reading a File\n",
    "\n",
    "Write a function that reads the contents of a file named `sample.txt` and prints each line.\n",
    "\n",
    "### Assignment 2: Writing to a File\n",
    "\n",
    "Write a function that writes a list of strings to a file named `output.txt`, with each string on a new line.\n",
    "\n",
    "### Assignment 3: Copying a File\n",
    "\n",
    "Write a function that copies the contents of a file named `source.txt` to a new file named `destination.txt`.\n",
    "\n",
    "### Assignment 4: Appending to a File\n",
    "\n",
    "Write a function that appends a given string to the end of a file named `log.txt`.\n",
    "\n",
    "### Assignment 5: Counting Words in a File\n",
    "\n",
    "Write a function that reads the contents of a file named `document.txt` and returns the number of words in the file.\n",
    "\n",
    "### Assignment 6: Finding and Replacing Text\n",
    "\n",
    "Write a function that finds and replaces all occurrences of a given word in a file named `data.txt` with another word.\n",
    "\n",
    "### Assignment 7: Reading a File in Reverse\n",
    "\n",
    "Write a function that reads the contents of a file named `reverse.txt` and prints each line in reverse order.\n",
    "\n",
    "### Assignment 8: Counting Lines, Words, and Characters\n",
    "\n",
    "Write a function that reads the contents of a file named `stats.txt` and returns the number of lines, words, and characters in the file.\n",
    "\n",
    "### Assignment 9: Merging Multiple Files\n",
    "\n",
    "Write a function that merges the contents of multiple files into a single file named `merged.txt`.\n",
    "\n",
    "### Assignment 10: Splitting a Large File\n",
    "\n",
    "Write a function that splits a large file named `large.txt` into smaller files of 100 lines each.\n",
    "\n",
    "### Assignment 11: Creating a Log File\n",
    "\n",
    "Write a function that creates a log file named `activity.log` and writes log messages with timestamps.\n",
    "\n",
    "### Assignment 12: Binary File Operations\n",
    "\n",
    "Write a function that reads a binary file named `image.bin` and writes its contents to another binary file named `copy_image.bin`.\n",
    "\n",
    "### Assignment 13: CSV File Operations\n",
    "\n",
    "Write a function that reads a CSV file named `data.csv` and prints its contents as a list of dictionaries.\n",
    "\n",
    "### Assignment 14: JSON File Operations\n",
    "\n",
    "Write a function that reads a JSON file named `data.json` and prints its contents as a Python dictionary.\n",
    "\n",
    "### Assignment 15: File Permission Handling\n",
    "\n",
    "Write a function that attempts to read a file named `protected.txt` and handles any permission errors gracefully by printing an error message."
   ]
  },
  {
   "cell_type": "markdown",
   "id": "fb709cbf",
   "metadata": {},
   "source": [
    "### Assignment 1: Reading a File\n",
    "\n",
    "Write a function that reads the contents of a file named `sample.txt` and prints each line."
   ]
  },
  {
   "cell_type": "code",
   "execution_count": 18,
   "metadata": {},
   "outputs": [
    {
     "name": "stdout",
     "output_type": "stream",
     "text": [
      "Hello I am shyam Goli\n",
      "\n",
      "I am a python developer\n",
      "\n",
      "I am a AI ML enthusiats\n",
      "\n",
      "Looking to join the job which is core ML AI\n",
      "\n",
      "Want to explore more opportunities in that field\n",
      "\n",
      "testing the appending task\n",
      "['Hello I am shyam Goli\\n', 'I am a python developer\\n', 'I am a AI ML enthusiats\\n', 'Looking to join the job which is core ML AI\\n', 'Want to explore more opportunities in that field\\n', 'testing the appending task']\n"
     ]
    }
   ],
   "source": [
    "li = []\n",
    "with open('sample.txt', 'r') as f:\n",
    "    for line in f:\n",
    "        li.append(line)\n",
    "        print(line)\n",
    "print(li)"
   ]
  },
  {
   "cell_type": "markdown",
   "id": "b01089c4",
   "metadata": {},
   "source": [
    "### Assignment 2: Writing to a File\n",
    "\n",
    "Write a function that writes a list of strings to a file named `output.txt`, with each string on a new line.\n",
    "\n"
   ]
  },
  {
   "cell_type": "code",
   "execution_count": 7,
   "id": "48ce3f40",
   "metadata": {},
   "outputs": [],
   "source": [
    "li = ['Hello I am shyam Goli\\n', 'I am a python developer\\n', 'I am a AI ML enthusiats\\n', 'Looking to join the job which is core ML AI\\n', 'Want to explore more opportunities in that field']\n",
    "with open('output.txt', 'w') as f:\n",
    "    for line in li:\n",
    "        f.write(line)\n",
    "f.close()"
   ]
  },
  {
   "cell_type": "markdown",
   "id": "cd5f554a",
   "metadata": {},
   "source": [
    "### Assignment 3: Copying a File\n",
    "\n",
    "Write a function that copies the contents of a file named `source.txt` to a new file named `destination.txt`."
   ]
  },
  {
   "cell_type": "code",
   "execution_count": 9,
   "id": "9cbce4ab",
   "metadata": {},
   "outputs": [],
   "source": [
    "with open('source.txt', 'r') as source:\n",
    "    lines = source.readlines()\n",
    "    with open('destination.txt', 'w') as destination:\n",
    "        for line in lines:\n",
    "            destination.write(line)\n",
    "    destination.close()\n",
    "source.close()"
   ]
  },
  {
   "cell_type": "markdown",
   "id": "e9606521",
   "metadata": {},
   "source": [
    "### Assignment 4: Appending to a File\n",
    "\n",
    "Write a function that appends a given string to the end of a file named `log.txt`."
   ]
  },
  {
   "cell_type": "code",
   "execution_count": 11,
   "id": "5955586a",
   "metadata": {},
   "outputs": [],
   "source": [
    "def appendline(file, st):\n",
    "    with open(file, 'a') as f:\n",
    "        f.write(st)\n",
    "    f.close()\n",
    "\n",
    "appendline('sample.txt', '\\ntesting the appending task')"
   ]
  },
  {
   "cell_type": "markdown",
   "id": "d7b8c898",
   "metadata": {},
   "source": [
    "### Assignment 5: Counting Words in a File\n",
    "\n",
    "Write a function that reads the contents of a file named `document.txt` and returns the number of words in the file."
   ]
  },
  {
   "cell_type": "code",
   "execution_count": 12,
   "id": "d8436d28",
   "metadata": {},
   "outputs": [
    {
     "name": "stdout",
     "output_type": "stream",
     "text": [
      "34\n"
     ]
    }
   ],
   "source": [
    "count = 0\n",
    "with open('document.txt', 'r') as f:\n",
    "    for line in f.readlines():\n",
    "        count += len(line.split(' '))\n",
    "f.close()\n",
    "print(count)"
   ]
  },
  {
   "cell_type": "markdown",
   "id": "8a73178b",
   "metadata": {},
   "source": [
    "### Assignment 6: Finding and Replacing Text\n",
    "\n",
    "Write a function that finds and replaces all occurrences of a given word in a file named `data.txt` with another word."
   ]
  },
  {
   "cell_type": "code",
   "execution_count": 17,
   "id": "2b1c4a78",
   "metadata": {},
   "outputs": [],
   "source": [
    "def find_replace(filename, findword, replaceword):\n",
    "    with open(filename, 'r') as f:\n",
    "        text = f.read()\n",
    "    with open(filename, 'w') as f:\n",
    "        f.write(text.replace(findword, replaceword))\n",
    "\n",
    "find_replace('data.txt', 'job', 'JOB')"
   ]
  },
  {
   "cell_type": "code",
   "execution_count": 19,
   "id": "325f7a71",
   "metadata": {},
   "outputs": [],
   "source": [
    "def find_replace(filename, findword, replaceword):\n",
    "    with open(filename, 'r') as f, open('temp.txt', 'w') as temp:\n",
    "        for line in f:\n",
    "            temp.write(line.replace(findword, replaceword))\n",
    "    import os\n",
    "    os.replace('temp.txt', filename)\n",
    "     \n",
    "\n",
    "find_replace('data.txt', 'job', 'JOB')"
   ]
  },
  {
   "cell_type": "markdown",
   "id": "f14ebdf8",
   "metadata": {},
   "source": [
    "### Assignment 7: Reading a File in Reverse\n",
    "\n",
    "Write a function that reads the contents of a file named `reverse.txt` and prints each line in reverse order."
   ]
  },
  {
   "cell_type": "code",
   "execution_count": 28,
   "id": "5f9259ee",
   "metadata": {},
   "outputs": [],
   "source": [
    "with open('sample.txt', 'r') as f, open('reverse.txt', 'w') as rev:\n",
    "    for line in f:\n",
    "        rev.write(' '.join(line.split()[::-1]))\n",
    "        rev.write('\\n')"
   ]
  },
  {
   "cell_type": "code",
   "execution_count": 29,
   "id": "4aae8f34",
   "metadata": {},
   "outputs": [
    {
     "name": "stdout",
     "output_type": "stream",
     "text": [
      "15\n"
     ]
    }
   ],
   "source": [
    "st = 'i am shyam goli'\n",
    "print(len(st))"
   ]
  },
  {
   "cell_type": "markdown",
   "id": "5c4d38de",
   "metadata": {},
   "source": [
    "### Assignment 8: Counting Lines, Words, and Characters\n",
    "\n",
    "Write a function that reads the contents of a file named `stats.txt` and returns the number of lines, words, and characters in the file."
   ]
  },
  {
   "cell_type": "code",
   "execution_count": 30,
   "id": "2186ca79",
   "metadata": {},
   "outputs": [
    {
     "name": "stdout",
     "output_type": "stream",
     "text": [
      "5 34 163\n"
     ]
    }
   ],
   "source": [
    "num_lines = 0\n",
    "num_words = 0\n",
    "num_chars = 0\n",
    "with open('stats.txt', 'r') as f:\n",
    "    for line in f:\n",
    "        num_lines += 1\n",
    "        num_words += len(line.split(' '))\n",
    "        num_chars += len(line)\n",
    "print(num_lines, num_words, num_chars)"
   ]
  },
  {
   "cell_type": "markdown",
   "id": "c92fe2dd",
   "metadata": {},
   "source": [
    "### Assignment 9: Merging Multiple Files\n",
    "\n",
    "Write a function that merges the contents of multiple files into a single file named `merged.txt`."
   ]
  },
  {
   "cell_type": "code",
   "execution_count": 32,
   "id": "fee56c03",
   "metadata": {},
   "outputs": [],
   "source": [
    "with open('sample.txt', 'r') as f, open('document.txt', 'r') as doc:\n",
    "    text1 = f.read()\n",
    "    text2 = doc.read()\n",
    "\n",
    "with open('merged.txt', 'w') as mg:\n",
    "    mg.write(text1)\n",
    "    mg.write('\\n')\n",
    "    mg.write(text2)\n"
   ]
  },
  {
   "cell_type": "markdown",
   "id": "5096af56",
   "metadata": {},
   "source": [
    "### Assignment 10: Splitting a Large File\n",
    "\n",
    "Write a function that splits a large file named `large.txt` into smaller files of 100 lines each.\n",
    "\n"
   ]
  },
  {
   "cell_type": "code",
   "execution_count": 35,
   "id": "471b1bb9",
   "metadata": {},
   "outputs": [],
   "source": [
    "with open('merged.txt', 'r') as f:\n",
    "    lines = f.readlines()\n",
    "for i in range(0, len(lines), 3):\n",
    "    with open(f'file{i}-{i+3}.txt', 'w') as small:\n",
    "        small.writelines(lines[i:i+3])"
   ]
  },
  {
   "cell_type": "markdown",
   "id": "c58a17a6",
   "metadata": {},
   "source": [
    "### Assignment 11: Creating a Log File\n",
    "\n",
    "Write a function that creates a log file named `activity.log` and writes log messages with timestamps.\n",
    "\n"
   ]
  },
  {
   "cell_type": "code",
   "execution_count": 38,
   "id": "21904ddf",
   "metadata": {},
   "outputs": [],
   "source": [
    "import logging\n",
    "\n",
    "logger = logging.getLogger(__name__)\n",
    "filehandler = logging.FileHandler('activity.log')\n",
    "\n",
    "formatter = logging.Formatter('%(asctime)s - %(levelname)s - %(message)s')\n",
    "filehandler.setFormatter(formatter)\n",
    "filehandler.setLevel(logging.DEBUG)\n",
    "\n",
    "logger.addHandler(filehandler)\n",
    "\n",
    "logger.debug('normal debug')\n",
    "logger.critical('critical situation')\n",
    "logger.warning('FIrst and last warning')\n",
    "logger.error('OMG error')"
   ]
  },
  {
   "cell_type": "markdown",
   "id": "9f401b22",
   "metadata": {},
   "source": [
    "### Assignment 12: Binary File Operations\n",
    "\n",
    "Write a function that reads a binary file named `image.bin` and writes its contents to another binary file named `copy_image.bin`."
   ]
  },
  {
   "cell_type": "code",
   "execution_count": 47,
   "id": "e62b54eb",
   "metadata": {},
   "outputs": [
    {
     "ename": "TypeError",
     "evalue": "a bytes-like object is required, not 'str'",
     "output_type": "error",
     "traceback": [
      "\u001b[1;31m---------------------------------------------------------------------------\u001b[0m",
      "\u001b[1;31mTypeError\u001b[0m                                 Traceback (most recent call last)",
      "Cell \u001b[1;32mIn[47], line 10\u001b[0m\n\u001b[0;32m      8\u001b[0m \u001b[38;5;28;01mwith\u001b[39;00m \u001b[38;5;28mopen\u001b[39m(\u001b[38;5;124m'\u001b[39m\u001b[38;5;124mimage.bin\u001b[39m\u001b[38;5;124m'\u001b[39m, \u001b[38;5;124m'\u001b[39m\u001b[38;5;124mwb\u001b[39m\u001b[38;5;124m'\u001b[39m) \u001b[38;5;28;01mas\u001b[39;00m b:\n\u001b[0;32m      9\u001b[0m     \u001b[38;5;28;01mfor\u001b[39;00m line \u001b[38;5;129;01min\u001b[39;00m text:\n\u001b[1;32m---> 10\u001b[0m         \u001b[43mb\u001b[49m\u001b[38;5;241;43m.\u001b[39;49m\u001b[43mwrite\u001b[49m\u001b[43m(\u001b[49m\u001b[43mtext_to_binary\u001b[49m\u001b[43m(\u001b[49m\u001b[43mline\u001b[49m\u001b[43m)\u001b[49m\u001b[43m)\u001b[49m\n",
      "\u001b[1;31mTypeError\u001b[0m: a bytes-like object is required, not 'str'"
     ]
    }
   ],
   "source": [
    "def text_to_binary(text):\n",
    "    # Convert each character in the text to its binary representation\n",
    "    binary_representation = ' '.join(format(ord(char), '08b') for char in text)\n",
    "    return binary_representation\n",
    "\n",
    "with open('sample.txt', 'r') as f:\n",
    "    text = f.read()\n",
    "with open('image.bin', 'wb') as b:\n",
    "    for line in text:\n",
    "        b.write(text_to_binary(line))"
   ]
  },
  {
   "cell_type": "code",
   "execution_count": null,
   "id": "3a631750",
   "metadata": {},
   "outputs": [],
   "source": []
  }
 ],
 "metadata": {
  "kernelspec": {
   "display_name": "venv",
   "language": "python",
   "name": "python3"
  },
  "language_info": {
   "codemirror_mode": {
    "name": "ipython",
    "version": 3
   },
   "file_extension": ".py",
   "mimetype": "text/x-python",
   "name": "python",
   "nbconvert_exporter": "python",
   "pygments_lexer": "ipython3",
   "version": "3.12.5"
  }
 },
 "nbformat": 4,
 "nbformat_minor": 5
}
